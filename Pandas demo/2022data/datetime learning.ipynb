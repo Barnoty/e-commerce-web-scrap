{
 "cells": [
  {
   "cell_type": "code",
   "execution_count": 45,
   "id": "75ea8d47",
   "metadata": {},
   "outputs": [],
   "source": [
    "import pandas as pd\n",
    "from datetime import datetime, timedelta"
   ]
  },
  {
   "cell_type": "code",
   "execution_count": 46,
   "id": "29a93b1f",
   "metadata": {},
   "outputs": [],
   "source": [
    "df=pd.read_csv(\"ETH_1h.csv\")"
   ]
  },
  {
   "cell_type": "code",
   "execution_count": 47,
   "id": "fb805196",
   "metadata": {},
   "outputs": [],
   "source": [
    "df['Date']=pd.to_datetime(df[\"Date\"], format=\"%Y-%m-%d %I-%p\" )"
   ]
  },
  {
   "cell_type": "code",
   "execution_count": 50,
   "id": "7ec0c36e",
   "metadata": {},
   "outputs": [],
   "source": [
    "min_d=df['Date'].min()"
   ]
  },
  {
   "cell_type": "code",
   "execution_count": 53,
   "id": "6b5d7e39",
   "metadata": {},
   "outputs": [
    {
     "name": "stdout",
     "output_type": "stream",
     "text": [
      "986 days 09:00:00\n"
     ]
    }
   ],
   "source": [
    "max_d=df['Date'].max()\n",
    "diff=max_d-min_d\n",
    "print(diff)"
   ]
  },
  {
   "cell_type": "code",
   "execution_count": 54,
   "id": "12d61dd9",
   "metadata": {},
   "outputs": [
    {
     "data": {
      "text/plain": [
       "(23674, 6)"
      ]
     },
     "execution_count": 54,
     "metadata": {},
     "output_type": "execute_result"
    }
   ],
   "source": [
    "df.set_index('Date', inplace=True)\n",
    "df.shape"
   ]
  },
  {
   "cell_type": "code",
   "execution_count": 55,
   "id": "ac74e3be",
   "metadata": {},
   "outputs": [
    {
     "data": {
      "text/html": [
       "<div>\n",
       "<style scoped>\n",
       "    .dataframe tbody tr th:only-of-type {\n",
       "        vertical-align: middle;\n",
       "    }\n",
       "\n",
       "    .dataframe tbody tr th {\n",
       "        vertical-align: top;\n",
       "    }\n",
       "\n",
       "    .dataframe thead th {\n",
       "        text-align: right;\n",
       "    }\n",
       "</style>\n",
       "<table border=\"1\" class=\"dataframe\">\n",
       "  <thead>\n",
       "    <tr style=\"text-align: right;\">\n",
       "      <th></th>\n",
       "      <th>Symbol</th>\n",
       "      <th>Open</th>\n",
       "      <th>High</th>\n",
       "      <th>Low</th>\n",
       "      <th>Close</th>\n",
       "      <th>Volume</th>\n",
       "    </tr>\n",
       "    <tr>\n",
       "      <th>Date</th>\n",
       "      <th></th>\n",
       "      <th></th>\n",
       "      <th></th>\n",
       "      <th></th>\n",
       "      <th></th>\n",
       "      <th></th>\n",
       "    </tr>\n",
       "  </thead>\n",
       "  <tbody>\n",
       "    <tr>\n",
       "      <th>2020-03-13 20:00:00</th>\n",
       "      <td>ETHUSD</td>\n",
       "      <td>129.94</td>\n",
       "      <td>131.82</td>\n",
       "      <td>126.87</td>\n",
       "      <td>128.71</td>\n",
       "      <td>1940673.93</td>\n",
       "    </tr>\n",
       "    <tr>\n",
       "      <th>2020-03-13 19:00:00</th>\n",
       "      <td>ETHUSD</td>\n",
       "      <td>119.51</td>\n",
       "      <td>132.02</td>\n",
       "      <td>117.10</td>\n",
       "      <td>129.94</td>\n",
       "      <td>7579741.09</td>\n",
       "    </tr>\n",
       "    <tr>\n",
       "      <th>2020-03-13 18:00:00</th>\n",
       "      <td>ETHUSD</td>\n",
       "      <td>124.47</td>\n",
       "      <td>124.85</td>\n",
       "      <td>115.50</td>\n",
       "      <td>119.51</td>\n",
       "      <td>4898735.81</td>\n",
       "    </tr>\n",
       "    <tr>\n",
       "      <th>2020-03-13 17:00:00</th>\n",
       "      <td>ETHUSD</td>\n",
       "      <td>124.08</td>\n",
       "      <td>127.42</td>\n",
       "      <td>121.63</td>\n",
       "      <td>124.47</td>\n",
       "      <td>2753450.92</td>\n",
       "    </tr>\n",
       "    <tr>\n",
       "      <th>2020-03-13 16:00:00</th>\n",
       "      <td>ETHUSD</td>\n",
       "      <td>124.85</td>\n",
       "      <td>129.51</td>\n",
       "      <td>120.17</td>\n",
       "      <td>124.08</td>\n",
       "      <td>4461424.71</td>\n",
       "    </tr>\n",
       "    <tr>\n",
       "      <th>...</th>\n",
       "      <td>...</td>\n",
       "      <td>...</td>\n",
       "      <td>...</td>\n",
       "      <td>...</td>\n",
       "      <td>...</td>\n",
       "      <td>...</td>\n",
       "    </tr>\n",
       "    <tr>\n",
       "      <th>2020-01-01 04:00:00</th>\n",
       "      <td>ETHUSD</td>\n",
       "      <td>129.57</td>\n",
       "      <td>130.00</td>\n",
       "      <td>129.50</td>\n",
       "      <td>129.56</td>\n",
       "      <td>702786.82</td>\n",
       "    </tr>\n",
       "    <tr>\n",
       "      <th>2020-01-01 03:00:00</th>\n",
       "      <td>ETHUSD</td>\n",
       "      <td>130.37</td>\n",
       "      <td>130.44</td>\n",
       "      <td>129.38</td>\n",
       "      <td>129.57</td>\n",
       "      <td>496704.23</td>\n",
       "    </tr>\n",
       "    <tr>\n",
       "      <th>2020-01-01 02:00:00</th>\n",
       "      <td>ETHUSD</td>\n",
       "      <td>130.14</td>\n",
       "      <td>130.50</td>\n",
       "      <td>129.91</td>\n",
       "      <td>130.37</td>\n",
       "      <td>396315.72</td>\n",
       "    </tr>\n",
       "    <tr>\n",
       "      <th>2020-01-01 01:00:00</th>\n",
       "      <td>ETHUSD</td>\n",
       "      <td>128.34</td>\n",
       "      <td>130.14</td>\n",
       "      <td>128.32</td>\n",
       "      <td>130.14</td>\n",
       "      <td>635419.40</td>\n",
       "    </tr>\n",
       "    <tr>\n",
       "      <th>2020-01-01 00:00:00</th>\n",
       "      <td>ETHUSD</td>\n",
       "      <td>128.54</td>\n",
       "      <td>128.54</td>\n",
       "      <td>128.12</td>\n",
       "      <td>128.34</td>\n",
       "      <td>245119.91</td>\n",
       "    </tr>\n",
       "  </tbody>\n",
       "</table>\n",
       "<p>1749 rows × 6 columns</p>\n",
       "</div>"
      ],
      "text/plain": [
       "                     Symbol    Open    High     Low   Close      Volume\n",
       "Date                                                                   \n",
       "2020-03-13 20:00:00  ETHUSD  129.94  131.82  126.87  128.71  1940673.93\n",
       "2020-03-13 19:00:00  ETHUSD  119.51  132.02  117.10  129.94  7579741.09\n",
       "2020-03-13 18:00:00  ETHUSD  124.47  124.85  115.50  119.51  4898735.81\n",
       "2020-03-13 17:00:00  ETHUSD  124.08  127.42  121.63  124.47  2753450.92\n",
       "2020-03-13 16:00:00  ETHUSD  124.85  129.51  120.17  124.08  4461424.71\n",
       "...                     ...     ...     ...     ...     ...         ...\n",
       "2020-01-01 04:00:00  ETHUSD  129.57  130.00  129.50  129.56   702786.82\n",
       "2020-01-01 03:00:00  ETHUSD  130.37  130.44  129.38  129.57   496704.23\n",
       "2020-01-01 02:00:00  ETHUSD  130.14  130.50  129.91  130.37   396315.72\n",
       "2020-01-01 01:00:00  ETHUSD  128.34  130.14  128.32  130.14   635419.40\n",
       "2020-01-01 00:00:00  ETHUSD  128.54  128.54  128.12  128.34   245119.91\n",
       "\n",
       "[1749 rows x 6 columns]"
      ]
     },
     "execution_count": 55,
     "metadata": {},
     "output_type": "execute_result"
    }
   ],
   "source": [
    "df.loc['2020':'2021']"
   ]
  },
  {
   "cell_type": "code",
   "execution_count": 56,
   "id": "b2f67e0f",
   "metadata": {},
   "outputs": [
    {
     "data": {
      "text/plain": [
       "Index(['symbol', 'Open', 'High', 'Low', 'Close', 'Volume'], dtype='object')"
      ]
     },
     "execution_count": 56,
     "metadata": {},
     "output_type": "execute_result"
    }
   ],
   "source": [
    "df.rename(columns={'Symbol':\"symbol\"},inplace=True)\n",
    "df.columns"
   ]
  },
  {
   "cell_type": "code",
   "execution_count": 57,
   "id": "db5479a8",
   "metadata": {},
   "outputs": [],
   "source": [
    "df.columns=df.columns.str.lower()"
   ]
  },
  {
   "cell_type": "code",
   "execution_count": 58,
   "id": "f947183c",
   "metadata": {},
   "outputs": [
    {
     "data": {
      "text/html": [
       "<div>\n",
       "<style scoped>\n",
       "    .dataframe tbody tr th:only-of-type {\n",
       "        vertical-align: middle;\n",
       "    }\n",
       "\n",
       "    .dataframe tbody tr th {\n",
       "        vertical-align: top;\n",
       "    }\n",
       "\n",
       "    .dataframe thead th {\n",
       "        text-align: right;\n",
       "    }\n",
       "</style>\n",
       "<table border=\"1\" class=\"dataframe\">\n",
       "  <thead>\n",
       "    <tr style=\"text-align: right;\">\n",
       "      <th></th>\n",
       "      <th>symbol</th>\n",
       "      <th>open</th>\n",
       "      <th>high</th>\n",
       "      <th>low</th>\n",
       "      <th>close</th>\n",
       "      <th>volume</th>\n",
       "    </tr>\n",
       "    <tr>\n",
       "      <th>Date</th>\n",
       "      <th></th>\n",
       "      <th></th>\n",
       "      <th></th>\n",
       "      <th></th>\n",
       "      <th></th>\n",
       "      <th></th>\n",
       "    </tr>\n",
       "  </thead>\n",
       "  <tbody>\n",
       "    <tr>\n",
       "      <th>2020-03-13 20:00:00</th>\n",
       "      <td>ETHUSD</td>\n",
       "      <td>129.94</td>\n",
       "      <td>131.82</td>\n",
       "      <td>126.87</td>\n",
       "      <td>128.71</td>\n",
       "      <td>1940673.93</td>\n",
       "    </tr>\n",
       "    <tr>\n",
       "      <th>2020-03-13 19:00:00</th>\n",
       "      <td>ETHUSD</td>\n",
       "      <td>119.51</td>\n",
       "      <td>132.02</td>\n",
       "      <td>117.10</td>\n",
       "      <td>129.94</td>\n",
       "      <td>7579741.09</td>\n",
       "    </tr>\n",
       "    <tr>\n",
       "      <th>2020-03-13 18:00:00</th>\n",
       "      <td>ETHUSD</td>\n",
       "      <td>124.47</td>\n",
       "      <td>124.85</td>\n",
       "      <td>115.50</td>\n",
       "      <td>119.51</td>\n",
       "      <td>4898735.81</td>\n",
       "    </tr>\n",
       "    <tr>\n",
       "      <th>2020-03-13 17:00:00</th>\n",
       "      <td>ETHUSD</td>\n",
       "      <td>124.08</td>\n",
       "      <td>127.42</td>\n",
       "      <td>121.63</td>\n",
       "      <td>124.47</td>\n",
       "      <td>2753450.92</td>\n",
       "    </tr>\n",
       "    <tr>\n",
       "      <th>2020-03-13 16:00:00</th>\n",
       "      <td>ETHUSD</td>\n",
       "      <td>124.85</td>\n",
       "      <td>129.51</td>\n",
       "      <td>120.17</td>\n",
       "      <td>124.08</td>\n",
       "      <td>4461424.71</td>\n",
       "    </tr>\n",
       "    <tr>\n",
       "      <th>...</th>\n",
       "      <td>...</td>\n",
       "      <td>...</td>\n",
       "      <td>...</td>\n",
       "      <td>...</td>\n",
       "      <td>...</td>\n",
       "      <td>...</td>\n",
       "    </tr>\n",
       "    <tr>\n",
       "      <th>2017-07-01 15:00:00</th>\n",
       "      <td>ETHUSD</td>\n",
       "      <td>265.74</td>\n",
       "      <td>272.74</td>\n",
       "      <td>265.00</td>\n",
       "      <td>272.57</td>\n",
       "      <td>1500282.55</td>\n",
       "    </tr>\n",
       "    <tr>\n",
       "      <th>2017-07-01 14:00:00</th>\n",
       "      <td>ETHUSD</td>\n",
       "      <td>268.79</td>\n",
       "      <td>269.90</td>\n",
       "      <td>265.00</td>\n",
       "      <td>265.74</td>\n",
       "      <td>1702536.85</td>\n",
       "    </tr>\n",
       "    <tr>\n",
       "      <th>2017-07-01 13:00:00</th>\n",
       "      <td>ETHUSD</td>\n",
       "      <td>274.83</td>\n",
       "      <td>274.93</td>\n",
       "      <td>265.00</td>\n",
       "      <td>268.79</td>\n",
       "      <td>3010787.99</td>\n",
       "    </tr>\n",
       "    <tr>\n",
       "      <th>2017-07-01 12:00:00</th>\n",
       "      <td>ETHUSD</td>\n",
       "      <td>275.01</td>\n",
       "      <td>275.01</td>\n",
       "      <td>271.00</td>\n",
       "      <td>274.83</td>\n",
       "      <td>824362.87</td>\n",
       "    </tr>\n",
       "    <tr>\n",
       "      <th>2017-07-01 11:00:00</th>\n",
       "      <td>ETHUSD</td>\n",
       "      <td>279.98</td>\n",
       "      <td>279.99</td>\n",
       "      <td>272.10</td>\n",
       "      <td>275.01</td>\n",
       "      <td>679358.87</td>\n",
       "    </tr>\n",
       "  </tbody>\n",
       "</table>\n",
       "<p>23674 rows × 6 columns</p>\n",
       "</div>"
      ],
      "text/plain": [
       "                     symbol    open    high     low   close      volume\n",
       "Date                                                                   \n",
       "2020-03-13 20:00:00  ETHUSD  129.94  131.82  126.87  128.71  1940673.93\n",
       "2020-03-13 19:00:00  ETHUSD  119.51  132.02  117.10  129.94  7579741.09\n",
       "2020-03-13 18:00:00  ETHUSD  124.47  124.85  115.50  119.51  4898735.81\n",
       "2020-03-13 17:00:00  ETHUSD  124.08  127.42  121.63  124.47  2753450.92\n",
       "2020-03-13 16:00:00  ETHUSD  124.85  129.51  120.17  124.08  4461424.71\n",
       "...                     ...     ...     ...     ...     ...         ...\n",
       "2017-07-01 15:00:00  ETHUSD  265.74  272.74  265.00  272.57  1500282.55\n",
       "2017-07-01 14:00:00  ETHUSD  268.79  269.90  265.00  265.74  1702536.85\n",
       "2017-07-01 13:00:00  ETHUSD  274.83  274.93  265.00  268.79  3010787.99\n",
       "2017-07-01 12:00:00  ETHUSD  275.01  275.01  271.00  274.83   824362.87\n",
       "2017-07-01 11:00:00  ETHUSD  279.98  279.99  272.10  275.01   679358.87\n",
       "\n",
       "[23674 rows x 6 columns]"
      ]
     },
     "execution_count": 58,
     "metadata": {},
     "output_type": "execute_result"
    }
   ],
   "source": [
    "df"
   ]
  },
  {
   "cell_type": "code",
   "execution_count": 63,
   "id": "94a32809",
   "metadata": {},
   "outputs": [
    {
     "name": "stdout",
     "output_type": "stream",
     "text": [
      "1419.96\n"
     ]
    }
   ],
   "source": [
    "print(df['high'].max())"
   ]
  },
  {
   "cell_type": "code",
   "execution_count": 74,
   "id": "a8fc518a",
   "metadata": {},
   "outputs": [
    {
     "data": {
      "text/html": [
       "<div>\n",
       "<style scoped>\n",
       "    .dataframe tbody tr th:only-of-type {\n",
       "        vertical-align: middle;\n",
       "    }\n",
       "\n",
       "    .dataframe tbody tr th {\n",
       "        vertical-align: top;\n",
       "    }\n",
       "\n",
       "    .dataframe thead th {\n",
       "        text-align: right;\n",
       "    }\n",
       "</style>\n",
       "<table border=\"1\" class=\"dataframe\">\n",
       "  <thead>\n",
       "    <tr style=\"text-align: right;\">\n",
       "      <th></th>\n",
       "      <th>high</th>\n",
       "      <th>low</th>\n",
       "    </tr>\n",
       "    <tr>\n",
       "      <th>Date</th>\n",
       "      <th></th>\n",
       "      <th></th>\n",
       "    </tr>\n",
       "  </thead>\n",
       "  <tbody>\n",
       "    <tr>\n",
       "      <th>2018-01-15 00:00:00</th>\n",
       "      <td>1380.97</td>\n",
       "      <td>1353.86</td>\n",
       "    </tr>\n",
       "    <tr>\n",
       "      <th>2018-01-14 04:00:00</th>\n",
       "      <td>1383.44</td>\n",
       "      <td>1323.50</td>\n",
       "    </tr>\n",
       "    <tr>\n",
       "      <th>2018-01-14 03:00:00</th>\n",
       "      <td>1385.75</td>\n",
       "      <td>1370.95</td>\n",
       "    </tr>\n",
       "    <tr>\n",
       "      <th>2018-01-14 02:00:00</th>\n",
       "      <td>1385.00</td>\n",
       "      <td>1355.00</td>\n",
       "    </tr>\n",
       "    <tr>\n",
       "      <th>2018-01-14 01:00:00</th>\n",
       "      <td>1389.11</td>\n",
       "      <td>1350.11</td>\n",
       "    </tr>\n",
       "    <tr>\n",
       "      <th>2018-01-14 00:00:00</th>\n",
       "      <td>1386.02</td>\n",
       "      <td>1348.95</td>\n",
       "    </tr>\n",
       "    <tr>\n",
       "      <th>2018-01-13 23:00:00</th>\n",
       "      <td>1393.12</td>\n",
       "      <td>1364.00</td>\n",
       "    </tr>\n",
       "    <tr>\n",
       "      <th>2018-01-13 22:00:00</th>\n",
       "      <td>1404.00</td>\n",
       "      <td>1383.63</td>\n",
       "    </tr>\n",
       "    <tr>\n",
       "      <th>2018-01-13 21:00:00</th>\n",
       "      <td>1419.96</td>\n",
       "      <td>1360.99</td>\n",
       "    </tr>\n",
       "    <tr>\n",
       "      <th>2018-01-13 20:00:00</th>\n",
       "      <td>1418.80</td>\n",
       "      <td>1382.50</td>\n",
       "    </tr>\n",
       "    <tr>\n",
       "      <th>2018-01-13 19:00:00</th>\n",
       "      <td>1418.33</td>\n",
       "      <td>1365.88</td>\n",
       "    </tr>\n",
       "    <tr>\n",
       "      <th>2018-01-13 18:00:00</th>\n",
       "      <td>1418.96</td>\n",
       "      <td>1388.99</td>\n",
       "    </tr>\n",
       "    <tr>\n",
       "      <th>2018-01-13 17:00:00</th>\n",
       "      <td>1393.00</td>\n",
       "      <td>1365.00</td>\n",
       "    </tr>\n",
       "    <tr>\n",
       "      <th>2018-01-10 05:00:00</th>\n",
       "      <td>1383.00</td>\n",
       "      <td>1335.00</td>\n",
       "    </tr>\n",
       "    <tr>\n",
       "      <th>2018-01-10 04:00:00</th>\n",
       "      <td>1386.99</td>\n",
       "      <td>1311.50</td>\n",
       "    </tr>\n",
       "  </tbody>\n",
       "</table>\n",
       "</div>"
      ],
      "text/plain": [
       "                        high      low\n",
       "Date                                 \n",
       "2018-01-15 00:00:00  1380.97  1353.86\n",
       "2018-01-14 04:00:00  1383.44  1323.50\n",
       "2018-01-14 03:00:00  1385.75  1370.95\n",
       "2018-01-14 02:00:00  1385.00  1355.00\n",
       "2018-01-14 01:00:00  1389.11  1350.11\n",
       "2018-01-14 00:00:00  1386.02  1348.95\n",
       "2018-01-13 23:00:00  1393.12  1364.00\n",
       "2018-01-13 22:00:00  1404.00  1383.63\n",
       "2018-01-13 21:00:00  1419.96  1360.99\n",
       "2018-01-13 20:00:00  1418.80  1382.50\n",
       "2018-01-13 19:00:00  1418.33  1365.88\n",
       "2018-01-13 18:00:00  1418.96  1388.99\n",
       "2018-01-13 17:00:00  1393.00  1365.00\n",
       "2018-01-10 05:00:00  1383.00  1335.00\n",
       "2018-01-10 04:00:00  1386.99  1311.50"
      ]
     },
     "execution_count": 74,
     "metadata": {},
     "output_type": "execute_result"
    }
   ],
   "source": [
    "filt=df['high']>1380\n",
    "df.loc[filt][['high','low']]"
   ]
  },
  {
   "cell_type": "code",
   "execution_count": 75,
   "id": "c1f99cee",
   "metadata": {},
   "outputs": [
    {
     "data": {
      "text/html": [
       "<div>\n",
       "<style scoped>\n",
       "    .dataframe tbody tr th:only-of-type {\n",
       "        vertical-align: middle;\n",
       "    }\n",
       "\n",
       "    .dataframe tbody tr th {\n",
       "        vertical-align: top;\n",
       "    }\n",
       "\n",
       "    .dataframe thead th {\n",
       "        text-align: right;\n",
       "    }\n",
       "</style>\n",
       "<table border=\"1\" class=\"dataframe\">\n",
       "  <thead>\n",
       "    <tr style=\"text-align: right;\">\n",
       "      <th></th>\n",
       "      <th>symbol</th>\n",
       "      <th>open</th>\n",
       "      <th>high</th>\n",
       "      <th>low</th>\n",
       "      <th>close</th>\n",
       "      <th>volume</th>\n",
       "    </tr>\n",
       "    <tr>\n",
       "      <th>Date</th>\n",
       "      <th></th>\n",
       "      <th></th>\n",
       "      <th></th>\n",
       "      <th></th>\n",
       "      <th></th>\n",
       "      <th></th>\n",
       "    </tr>\n",
       "  </thead>\n",
       "  <tbody>\n",
       "    <tr>\n",
       "      <th>2018-01-15 00:00:00</th>\n",
       "      <td>ETHUSD</td>\n",
       "      <td>1365.46</td>\n",
       "      <td>1380.97</td>\n",
       "      <td>1353.86</td>\n",
       "      <td>1379.90</td>\n",
       "      <td>9719853.71</td>\n",
       "    </tr>\n",
       "    <tr>\n",
       "      <th>2018-01-14 04:00:00</th>\n",
       "      <td>ETHUSD</td>\n",
       "      <td>1383.44</td>\n",
       "      <td>1383.44</td>\n",
       "      <td>1323.50</td>\n",
       "      <td>1345.90</td>\n",
       "      <td>11369006.62</td>\n",
       "    </tr>\n",
       "    <tr>\n",
       "      <th>2018-01-14 03:00:00</th>\n",
       "      <td>ETHUSD</td>\n",
       "      <td>1376.01</td>\n",
       "      <td>1385.75</td>\n",
       "      <td>1370.95</td>\n",
       "      <td>1383.44</td>\n",
       "      <td>4304573.35</td>\n",
       "    </tr>\n",
       "    <tr>\n",
       "      <th>2018-01-14 02:00:00</th>\n",
       "      <td>ETHUSD</td>\n",
       "      <td>1383.51</td>\n",
       "      <td>1385.00</td>\n",
       "      <td>1355.00</td>\n",
       "      <td>1376.01</td>\n",
       "      <td>7587752.16</td>\n",
       "    </tr>\n",
       "    <tr>\n",
       "      <th>2018-01-14 01:00:00</th>\n",
       "      <td>ETHUSD</td>\n",
       "      <td>1356.00</td>\n",
       "      <td>1389.11</td>\n",
       "      <td>1350.11</td>\n",
       "      <td>1383.51</td>\n",
       "      <td>9947055.75</td>\n",
       "    </tr>\n",
       "    <tr>\n",
       "      <th>2018-01-14 00:00:00</th>\n",
       "      <td>ETHUSD</td>\n",
       "      <td>1386.02</td>\n",
       "      <td>1386.02</td>\n",
       "      <td>1348.95</td>\n",
       "      <td>1356.00</td>\n",
       "      <td>10745908.38</td>\n",
       "    </tr>\n",
       "    <tr>\n",
       "      <th>2018-01-13 23:00:00</th>\n",
       "      <td>ETHUSD</td>\n",
       "      <td>1392.24</td>\n",
       "      <td>1393.12</td>\n",
       "      <td>1364.00</td>\n",
       "      <td>1386.02</td>\n",
       "      <td>13550709.64</td>\n",
       "    </tr>\n",
       "    <tr>\n",
       "      <th>2018-01-13 22:00:00</th>\n",
       "      <td>ETHUSD</td>\n",
       "      <td>1395.00</td>\n",
       "      <td>1404.00</td>\n",
       "      <td>1383.63</td>\n",
       "      <td>1392.24</td>\n",
       "      <td>9849624.19</td>\n",
       "    </tr>\n",
       "    <tr>\n",
       "      <th>2018-01-13 21:00:00</th>\n",
       "      <td>ETHUSD</td>\n",
       "      <td>1418.61</td>\n",
       "      <td>1419.96</td>\n",
       "      <td>1360.99</td>\n",
       "      <td>1395.00</td>\n",
       "      <td>11452917.63</td>\n",
       "    </tr>\n",
       "    <tr>\n",
       "      <th>2018-01-13 20:00:00</th>\n",
       "      <td>ETHUSD</td>\n",
       "      <td>1382.56</td>\n",
       "      <td>1418.80</td>\n",
       "      <td>1382.50</td>\n",
       "      <td>1418.61</td>\n",
       "      <td>15617541.24</td>\n",
       "    </tr>\n",
       "    <tr>\n",
       "      <th>2018-01-13 19:00:00</th>\n",
       "      <td>ETHUSD</td>\n",
       "      <td>1410.00</td>\n",
       "      <td>1418.33</td>\n",
       "      <td>1365.88</td>\n",
       "      <td>1382.56</td>\n",
       "      <td>23061241.98</td>\n",
       "    </tr>\n",
       "    <tr>\n",
       "      <th>2018-01-13 18:00:00</th>\n",
       "      <td>ETHUSD</td>\n",
       "      <td>1388.99</td>\n",
       "      <td>1418.96</td>\n",
       "      <td>1388.99</td>\n",
       "      <td>1410.00</td>\n",
       "      <td>27959588.92</td>\n",
       "    </tr>\n",
       "    <tr>\n",
       "      <th>2018-01-13 17:00:00</th>\n",
       "      <td>ETHUSD</td>\n",
       "      <td>1365.01</td>\n",
       "      <td>1393.00</td>\n",
       "      <td>1365.00</td>\n",
       "      <td>1388.99</td>\n",
       "      <td>19922526.55</td>\n",
       "    </tr>\n",
       "    <tr>\n",
       "      <th>2018-01-10 05:00:00</th>\n",
       "      <td>ETHUSD</td>\n",
       "      <td>1382.94</td>\n",
       "      <td>1383.00</td>\n",
       "      <td>1335.00</td>\n",
       "      <td>1356.69</td>\n",
       "      <td>27880234.66</td>\n",
       "    </tr>\n",
       "    <tr>\n",
       "      <th>2018-01-10 04:00:00</th>\n",
       "      <td>ETHUSD</td>\n",
       "      <td>1342.19</td>\n",
       "      <td>1386.99</td>\n",
       "      <td>1311.50</td>\n",
       "      <td>1382.94</td>\n",
       "      <td>46946765.95</td>\n",
       "    </tr>\n",
       "  </tbody>\n",
       "</table>\n",
       "</div>"
      ],
      "text/plain": [
       "                     symbol     open     high      low    close       volume\n",
       "Date                                                                        \n",
       "2018-01-15 00:00:00  ETHUSD  1365.46  1380.97  1353.86  1379.90   9719853.71\n",
       "2018-01-14 04:00:00  ETHUSD  1383.44  1383.44  1323.50  1345.90  11369006.62\n",
       "2018-01-14 03:00:00  ETHUSD  1376.01  1385.75  1370.95  1383.44   4304573.35\n",
       "2018-01-14 02:00:00  ETHUSD  1383.51  1385.00  1355.00  1376.01   7587752.16\n",
       "2018-01-14 01:00:00  ETHUSD  1356.00  1389.11  1350.11  1383.51   9947055.75\n",
       "2018-01-14 00:00:00  ETHUSD  1386.02  1386.02  1348.95  1356.00  10745908.38\n",
       "2018-01-13 23:00:00  ETHUSD  1392.24  1393.12  1364.00  1386.02  13550709.64\n",
       "2018-01-13 22:00:00  ETHUSD  1395.00  1404.00  1383.63  1392.24   9849624.19\n",
       "2018-01-13 21:00:00  ETHUSD  1418.61  1419.96  1360.99  1395.00  11452917.63\n",
       "2018-01-13 20:00:00  ETHUSD  1382.56  1418.80  1382.50  1418.61  15617541.24\n",
       "2018-01-13 19:00:00  ETHUSD  1410.00  1418.33  1365.88  1382.56  23061241.98\n",
       "2018-01-13 18:00:00  ETHUSD  1388.99  1418.96  1388.99  1410.00  27959588.92\n",
       "2018-01-13 17:00:00  ETHUSD  1365.01  1393.00  1365.00  1388.99  19922526.55\n",
       "2018-01-10 05:00:00  ETHUSD  1382.94  1383.00  1335.00  1356.69  27880234.66\n",
       "2018-01-10 04:00:00  ETHUSD  1342.19  1386.99  1311.50  1382.94  46946765.95"
      ]
     },
     "execution_count": 75,
     "metadata": {},
     "output_type": "execute_result"
    }
   ],
   "source": [
    "df[filt]"
   ]
  },
  {
   "cell_type": "code",
   "execution_count": 78,
   "id": "b76febd6",
   "metadata": {},
   "outputs": [
    {
     "data": {
      "text/plain": [
       "Date\n",
       "2018-01-10    1384.995000\n",
       "2018-01-11            NaN\n",
       "2018-01-12            NaN\n",
       "2018-01-13    1409.452857\n",
       "2018-01-14    1385.864000\n",
       "2018-01-15    1380.970000\n",
       "Freq: D, Name: high, dtype: float64"
      ]
     },
     "execution_count": 78,
     "metadata": {},
     "output_type": "execute_result"
    }
   ],
   "source": [
    "df[filt]['high'].resample('D').mean()"
   ]
  },
  {
   "cell_type": "code",
   "execution_count": 123,
   "id": "f9fad3e6",
   "metadata": {},
   "outputs": [
    {
     "data": {
      "text/plain": [
       "Date\n",
       "2019-01-31    160.61\n",
       "2019-02-28    165.62\n",
       "2019-03-31    147.00\n",
       "2019-04-30    187.62\n",
       "2019-05-31    288.77\n",
       "2019-06-30    364.49\n",
       "2019-07-31    318.60\n",
       "2019-08-31    239.45\n",
       "2019-09-30    224.71\n",
       "2019-10-31    199.50\n",
       "2019-11-30    194.60\n",
       "2019-12-31    153.00\n",
       "2020-01-31    186.89\n",
       "2020-02-29    290.00\n",
       "2020-03-31    253.01\n",
       "Freq: M, Name: high, dtype: float64"
      ]
     },
     "execution_count": 123,
     "metadata": {},
     "output_type": "execute_result"
    }
   ],
   "source": [
    "a='2019'\n",
    "b='2020'\n",
    "mon_highs=df.loc[a:b]['high'].resample('M').max()\n",
    "mon_highs"
   ]
  },
  {
   "cell_type": "code",
   "execution_count": 122,
   "id": "c8c88005",
   "metadata": {},
   "outputs": [
    {
     "data": {
      "text/plain": [
       "160.61"
      ]
     },
     "execution_count": 122,
     "metadata": {},
     "output_type": "execute_result"
    }
   ],
   "source": [
    "mon_highs.loc['2019-01-31']"
   ]
  },
  {
   "cell_type": "code",
   "execution_count": 130,
   "id": "07ef5311",
   "metadata": {
    "collapsed": true
   },
   "outputs": [
    {
     "ename": "KeyError",
     "evalue": "\"['symbol'] not found in axis\"",
     "output_type": "error",
     "traceback": [
      "\u001b[1;31m---------------------------------------------------------------------------\u001b[0m",
      "\u001b[1;31mKeyError\u001b[0m                                  Traceback (most recent call last)",
      "Cell \u001b[1;32mIn[130], line 1\u001b[0m\n\u001b[1;32m----> 1\u001b[0m \u001b[43mdf\u001b[49m\u001b[38;5;241;43m.\u001b[39;49m\u001b[43mdrop\u001b[49m\u001b[43m(\u001b[49m\u001b[43mcolumns\u001b[49m\u001b[38;5;241;43m=\u001b[39;49m\u001b[38;5;124;43m'\u001b[39;49m\u001b[38;5;124;43msymbol\u001b[39;49m\u001b[38;5;124;43m'\u001b[39;49m\u001b[43m,\u001b[49m\u001b[43m \u001b[49m\u001b[43minplace\u001b[49m\u001b[38;5;241;43m=\u001b[39;49m\u001b[38;5;28;43;01mTrue\u001b[39;49;00m\u001b[43m)\u001b[49m\n",
      "File \u001b[1;32m~\\AppData\\Local\\Programs\\Python\\Python311\\Lib\\site-packages\\pandas\\core\\frame.py:5258\u001b[0m, in \u001b[0;36mDataFrame.drop\u001b[1;34m(self, labels, axis, index, columns, level, inplace, errors)\u001b[0m\n\u001b[0;32m   5110\u001b[0m \u001b[38;5;28;01mdef\u001b[39;00m \u001b[38;5;21mdrop\u001b[39m(\n\u001b[0;32m   5111\u001b[0m     \u001b[38;5;28mself\u001b[39m,\n\u001b[0;32m   5112\u001b[0m     labels: IndexLabel \u001b[38;5;241m=\u001b[39m \u001b[38;5;28;01mNone\u001b[39;00m,\n\u001b[1;32m   (...)\u001b[0m\n\u001b[0;32m   5119\u001b[0m     errors: IgnoreRaise \u001b[38;5;241m=\u001b[39m \u001b[38;5;124m\"\u001b[39m\u001b[38;5;124mraise\u001b[39m\u001b[38;5;124m\"\u001b[39m,\n\u001b[0;32m   5120\u001b[0m ) \u001b[38;5;241m-\u001b[39m\u001b[38;5;241m>\u001b[39m DataFrame \u001b[38;5;241m|\u001b[39m \u001b[38;5;28;01mNone\u001b[39;00m:\n\u001b[0;32m   5121\u001b[0m \u001b[38;5;250m    \u001b[39m\u001b[38;5;124;03m\"\"\"\u001b[39;00m\n\u001b[0;32m   5122\u001b[0m \u001b[38;5;124;03m    Drop specified labels from rows or columns.\u001b[39;00m\n\u001b[0;32m   5123\u001b[0m \n\u001b[1;32m   (...)\u001b[0m\n\u001b[0;32m   5256\u001b[0m \u001b[38;5;124;03m            weight  1.0     0.8\u001b[39;00m\n\u001b[0;32m   5257\u001b[0m \u001b[38;5;124;03m    \"\"\"\u001b[39;00m\n\u001b[1;32m-> 5258\u001b[0m     \u001b[38;5;28;01mreturn\u001b[39;00m \u001b[38;5;28;43msuper\u001b[39;49m\u001b[43m(\u001b[49m\u001b[43m)\u001b[49m\u001b[38;5;241;43m.\u001b[39;49m\u001b[43mdrop\u001b[49m\u001b[43m(\u001b[49m\n\u001b[0;32m   5259\u001b[0m \u001b[43m        \u001b[49m\u001b[43mlabels\u001b[49m\u001b[38;5;241;43m=\u001b[39;49m\u001b[43mlabels\u001b[49m\u001b[43m,\u001b[49m\n\u001b[0;32m   5260\u001b[0m \u001b[43m        \u001b[49m\u001b[43maxis\u001b[49m\u001b[38;5;241;43m=\u001b[39;49m\u001b[43maxis\u001b[49m\u001b[43m,\u001b[49m\n\u001b[0;32m   5261\u001b[0m \u001b[43m        \u001b[49m\u001b[43mindex\u001b[49m\u001b[38;5;241;43m=\u001b[39;49m\u001b[43mindex\u001b[49m\u001b[43m,\u001b[49m\n\u001b[0;32m   5262\u001b[0m \u001b[43m        \u001b[49m\u001b[43mcolumns\u001b[49m\u001b[38;5;241;43m=\u001b[39;49m\u001b[43mcolumns\u001b[49m\u001b[43m,\u001b[49m\n\u001b[0;32m   5263\u001b[0m \u001b[43m        \u001b[49m\u001b[43mlevel\u001b[49m\u001b[38;5;241;43m=\u001b[39;49m\u001b[43mlevel\u001b[49m\u001b[43m,\u001b[49m\n\u001b[0;32m   5264\u001b[0m \u001b[43m        \u001b[49m\u001b[43minplace\u001b[49m\u001b[38;5;241;43m=\u001b[39;49m\u001b[43minplace\u001b[49m\u001b[43m,\u001b[49m\n\u001b[0;32m   5265\u001b[0m \u001b[43m        \u001b[49m\u001b[43merrors\u001b[49m\u001b[38;5;241;43m=\u001b[39;49m\u001b[43merrors\u001b[49m\u001b[43m,\u001b[49m\n\u001b[0;32m   5266\u001b[0m \u001b[43m    \u001b[49m\u001b[43m)\u001b[49m\n",
      "File \u001b[1;32m~\\AppData\\Local\\Programs\\Python\\Python311\\Lib\\site-packages\\pandas\\core\\generic.py:4549\u001b[0m, in \u001b[0;36mNDFrame.drop\u001b[1;34m(self, labels, axis, index, columns, level, inplace, errors)\u001b[0m\n\u001b[0;32m   4547\u001b[0m \u001b[38;5;28;01mfor\u001b[39;00m axis, labels \u001b[38;5;129;01min\u001b[39;00m axes\u001b[38;5;241m.\u001b[39mitems():\n\u001b[0;32m   4548\u001b[0m     \u001b[38;5;28;01mif\u001b[39;00m labels \u001b[38;5;129;01mis\u001b[39;00m \u001b[38;5;129;01mnot\u001b[39;00m \u001b[38;5;28;01mNone\u001b[39;00m:\n\u001b[1;32m-> 4549\u001b[0m         obj \u001b[38;5;241m=\u001b[39m \u001b[43mobj\u001b[49m\u001b[38;5;241;43m.\u001b[39;49m\u001b[43m_drop_axis\u001b[49m\u001b[43m(\u001b[49m\u001b[43mlabels\u001b[49m\u001b[43m,\u001b[49m\u001b[43m \u001b[49m\u001b[43maxis\u001b[49m\u001b[43m,\u001b[49m\u001b[43m \u001b[49m\u001b[43mlevel\u001b[49m\u001b[38;5;241;43m=\u001b[39;49m\u001b[43mlevel\u001b[49m\u001b[43m,\u001b[49m\u001b[43m \u001b[49m\u001b[43merrors\u001b[49m\u001b[38;5;241;43m=\u001b[39;49m\u001b[43merrors\u001b[49m\u001b[43m)\u001b[49m\n\u001b[0;32m   4551\u001b[0m \u001b[38;5;28;01mif\u001b[39;00m inplace:\n\u001b[0;32m   4552\u001b[0m     \u001b[38;5;28mself\u001b[39m\u001b[38;5;241m.\u001b[39m_update_inplace(obj)\n",
      "File \u001b[1;32m~\\AppData\\Local\\Programs\\Python\\Python311\\Lib\\site-packages\\pandas\\core\\generic.py:4591\u001b[0m, in \u001b[0;36mNDFrame._drop_axis\u001b[1;34m(self, labels, axis, level, errors, only_slice)\u001b[0m\n\u001b[0;32m   4589\u001b[0m         new_axis \u001b[38;5;241m=\u001b[39m axis\u001b[38;5;241m.\u001b[39mdrop(labels, level\u001b[38;5;241m=\u001b[39mlevel, errors\u001b[38;5;241m=\u001b[39merrors)\n\u001b[0;32m   4590\u001b[0m     \u001b[38;5;28;01melse\u001b[39;00m:\n\u001b[1;32m-> 4591\u001b[0m         new_axis \u001b[38;5;241m=\u001b[39m \u001b[43maxis\u001b[49m\u001b[38;5;241;43m.\u001b[39;49m\u001b[43mdrop\u001b[49m\u001b[43m(\u001b[49m\u001b[43mlabels\u001b[49m\u001b[43m,\u001b[49m\u001b[43m \u001b[49m\u001b[43merrors\u001b[49m\u001b[38;5;241;43m=\u001b[39;49m\u001b[43merrors\u001b[49m\u001b[43m)\u001b[49m\n\u001b[0;32m   4592\u001b[0m     indexer \u001b[38;5;241m=\u001b[39m axis\u001b[38;5;241m.\u001b[39mget_indexer(new_axis)\n\u001b[0;32m   4594\u001b[0m \u001b[38;5;66;03m# Case for non-unique axis\u001b[39;00m\n\u001b[0;32m   4595\u001b[0m \u001b[38;5;28;01melse\u001b[39;00m:\n",
      "File \u001b[1;32m~\\AppData\\Local\\Programs\\Python\\Python311\\Lib\\site-packages\\pandas\\core\\indexes\\base.py:6699\u001b[0m, in \u001b[0;36mIndex.drop\u001b[1;34m(self, labels, errors)\u001b[0m\n\u001b[0;32m   6697\u001b[0m \u001b[38;5;28;01mif\u001b[39;00m mask\u001b[38;5;241m.\u001b[39many():\n\u001b[0;32m   6698\u001b[0m     \u001b[38;5;28;01mif\u001b[39;00m errors \u001b[38;5;241m!=\u001b[39m \u001b[38;5;124m\"\u001b[39m\u001b[38;5;124mignore\u001b[39m\u001b[38;5;124m\"\u001b[39m:\n\u001b[1;32m-> 6699\u001b[0m         \u001b[38;5;28;01mraise\u001b[39;00m \u001b[38;5;167;01mKeyError\u001b[39;00m(\u001b[38;5;124mf\u001b[39m\u001b[38;5;124m\"\u001b[39m\u001b[38;5;132;01m{\u001b[39;00m\u001b[38;5;28mlist\u001b[39m(labels[mask])\u001b[38;5;132;01m}\u001b[39;00m\u001b[38;5;124m not found in axis\u001b[39m\u001b[38;5;124m\"\u001b[39m)\n\u001b[0;32m   6700\u001b[0m     indexer \u001b[38;5;241m=\u001b[39m indexer[\u001b[38;5;241m~\u001b[39mmask]\n\u001b[0;32m   6701\u001b[0m \u001b[38;5;28;01mreturn\u001b[39;00m \u001b[38;5;28mself\u001b[39m\u001b[38;5;241m.\u001b[39mdelete(indexer)\n",
      "\u001b[1;31mKeyError\u001b[0m: \"['symbol'] not found in axis\""
     ]
    }
   ],
   "source": [
    "df.drop(columns='symbol', inplace=True)"
   ]
  },
  {
   "cell_type": "code",
   "execution_count": 153,
   "id": "0539ec4c",
   "metadata": {},
   "outputs": [],
   "source": [
    "df_res=df.resample('M').agg({'open':'mean','high':'max', 'low':'min', 'close':'mean', 'volume':'sum'}, inplace=True)"
   ]
  },
  {
   "cell_type": "code",
   "execution_count": 134,
   "id": "b1869b86",
   "metadata": {},
   "outputs": [],
   "source": [
    "from matplotlib import pyplot as plt"
   ]
  },
  {
   "cell_type": "code",
   "execution_count": 154,
   "id": "d78dc074",
   "metadata": {},
   "outputs": [
    {
     "data": {
      "text/plain": [
       "Date\n",
       "2017-07-31     293.73\n",
       "2017-08-31     392.00\n",
       "2017-09-30     396.88\n",
       "2017-10-31     350.00\n",
       "2017-11-30     518.13\n",
       "2017-12-31     875.00\n",
       "2018-01-31    1419.96\n",
       "2018-02-28    1143.00\n",
       "2018-03-31     878.00\n",
       "2018-04-30     711.00\n",
       "2018-05-31     828.97\n",
       "2018-06-30     627.83\n",
       "2018-07-31     515.88\n",
       "2018-08-31     435.48\n",
       "2018-09-30     302.20\n",
       "2018-10-31     234.92\n",
       "2018-11-30     222.78\n",
       "2018-12-31     159.51\n",
       "2019-01-31     160.61\n",
       "2019-02-28     165.62\n",
       "2019-03-31     147.00\n",
       "2019-04-30     187.62\n",
       "2019-05-31     288.77\n",
       "2019-06-30     364.49\n",
       "2019-07-31     318.60\n",
       "2019-08-31     239.45\n",
       "2019-09-30     224.71\n",
       "2019-10-31     199.50\n",
       "2019-11-30     194.60\n",
       "2019-12-31     153.00\n",
       "2020-01-31     186.89\n",
       "2020-02-29     290.00\n",
       "2020-03-31     253.01\n",
       "Freq: M, Name: high, dtype: float64"
      ]
     },
     "execution_count": 154,
     "metadata": {},
     "output_type": "execute_result"
    }
   ],
   "source": [
    "highs=df_res['high']\n",
    "highs"
   ]
  },
  {
   "cell_type": "code",
   "execution_count": 155,
   "id": "7903bc5c",
   "metadata": {},
   "outputs": [
    {
     "data": {
      "image/png": "[encoded data removed]",
      "text/plain": [
       "<Figure size 640x480 with 1 Axes>"
      ]
     },
     "metadata": {},
     "output_type": "display_data"
    }
   ],
   "source": [
    "plt.style.use('fivethirtyeight')\n",
    "height=5\n",
    "plt.plot(highs)\n",
    "plt.tight_layout()\n",
    "plt.savefig('ETH Highs.png')\n",
    "plt.show()"
   ]
  },
  {
   "cell_type": "code",
   "execution_count": 157,
   "id": "11c13ed8",
   "metadata": {},
   "outputs": [],
   "source": [
    "highs.to_csv('ETH monthly Highs.csv')"
   ]
  },
  {
   "cell_type": "code",
   "execution_count": 158,
   "id": "f39ccb47",
   "metadata": {},
   "outputs": [],
   "source": [
    "from sqlalchemy import create_engine"
   ]
  },
  {
   "cell_type": "code",
   "execution_count": 160,
   "id": "7d30fa64",
   "metadata": {},
   "outputs": [],
   "source": [
    "conn = 'mysql+mysqlconnector://root:@localhost/testdb'\n",
    "engine = create_engine(conn)\n",
    "highs.to_sql('eth_monthly_highs', engine, if_exists='replace')\n",
    "engine.dispose()"
   ]
  },
  {
   "cell_type": "code",
   "execution_count": 161,
   "id": "935d77b4",
   "metadata": {},
   "outputs": [],
   "source": [
    "highs.to_json('Eth Monthly Highs.json')"
   ]
  },
  {
   "cell_type": "code",
   "execution_count": 162,
   "id": "6811da7c",
   "metadata": {},
   "outputs": [],
   "source": [
    "highs.to_json('Eth Monthly Highs2.json',orient='records', lines=True)"
   ]
  },
  {
   "cell_type": "code",
   "execution_count": null,
   "id": "88aef183",
   "metadata": {},
   "outputs": [],
   "source": []
  }
 ],
 "metadata": {
  "kernelspec": {
   "display_name": "Python 3 (ipykernel)",
   "language": "python",
   "name": "python3"
  },
  "language_info": {
   "codemirror_mode": {
    "name": "ipython",
    "version": 3
   },
   "file_extension": ".py",
   "mimetype": "text/x-python",
   "name": "python",
   "nbconvert_exporter": "python",
   "pygments_lexer": "ipython3",
   "version": "3.11.2"
  }
 },
 "nbformat": 4,
 "nbformat_minor": 5
}
